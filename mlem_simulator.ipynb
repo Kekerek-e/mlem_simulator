{
 "cells": [
  {
   "cell_type": "raw",
   "id": "0b72d58f-6169-4627-8c3b-fc6dad8cf90e",
   "metadata": {},
   "source": [
    "mlem space agency\n",
    "flying cats to space and hoping they will not explode\n",
    "relevant game rules\n",
    "11 rockets in total\n",
    "succesfully dropping cats off doesnt use a rocket, assuming we just go as far as possible (only arriving at the last field will not use up a rocket)\n",
    "always use up all of the dices of the same roll-type, last one will not be used (as in you will never be left with 0 dices after the roll)\n",
    "using booster on the dice dont result in it being used\n",
    "loop:\n",
    "    roll the dice\n",
    "    choose which set of dices to use (depending on field specific possibilities)\n",
    "    move the rocket & discard used dices (if not booster)\n"
   ]
  },
  {
   "cell_type": "markdown",
   "id": "a680f12d-3271-42e3-b061-11816c4fffe6",
   "metadata": {},
   "source": [
    "\n",
    "game area looks more or less like this \\\n",
    "https://boardgamegeek.com/image/7786608/mlem-space-agency \\\n",
    "for now, distance maximizing will happen. potential for ML for points maximizing is there, but in future release\n"
   ]
  },
  {
   "cell_type": "code",
   "execution_count": 109,
   "id": "de0b566b-403b-4cf1-90db-7a77c04f3635",
   "metadata": {},
   "outputs": [],
   "source": [
    "dice_dictionary = {\n",
    "    1 : 1,\n",
    "    2 : 2, \n",
    "    3 : 3,\n",
    "    4 : 4,\n",
    "    5 : 2, \n",
    "    6 : \"booster\"\n",
    "} #kitty dice has 2 on two different faces\n",
    "\n",
    "game_area_dictionary = {\n",
    "    0 : [1, 2, \"booster\"],\n",
    "    1 : [1, 3, \"booster\"],\n",
    "    2 : [1, 3, \"booster\"],\n",
    "    3 : [2, 3, \"booster\"],\n",
    "    4 : [1, 4], \n",
    "    5 : [1, 2, \"booster\"], \n",
    "    6 : [1, 2 ,4],\n",
    "    7 : [1, 2],\n",
    "    8 : [1, 3],\n",
    "    9 : [2, 4],\n",
    "    10: [1, 3, 4],\n",
    "    11: [1, \"booster\"],\n",
    "    12: [3, \"booster\"],\n",
    "    13: [1, 3],\n",
    "    14: [3, 4],\n",
    "    15: [1, \"booster\"],\n",
    "    16: [1, 2, 4],\n",
    "    17: [2, 3, 4],\n",
    "    18: [1, 4, \"booster\"],\n",
    "    19: [1, \"booster\"],\n",
    "    20: [2, 3],\n",
    "    21: [2, \"booster\"],\n",
    "    22: [4, \"booster\"],\n",
    "    23: [3, \"booster\"],\n",
    "    24: [2, \"booster\"],\n",
    "    25: [1, \"booster\"]\n",
    "}\n",
    "\n",
    "double_booster_list = [2, 5, 12, 15, 21]\n",
    "# triple_booster_list = [19] #only one triple booster like that"
   ]
  },
  {
   "cell_type": "code",
   "execution_count": 10,
   "id": "4661c1c1-41d8-44ff-96ab-7ea92efc60e6",
   "metadata": {},
   "outputs": [
    {
     "data": {
      "text/plain": [
       "[1, 2, 'booster']"
      ]
     },
     "execution_count": 10,
     "metadata": {},
     "output_type": "execute_result"
    }
   ],
   "source": [
    "current_field = 0\n",
    "game_area_dictionary[current_field]"
   ]
  },
  {
   "cell_type": "code",
   "execution_count": 11,
   "id": "99942a7a-3488-4fd2-b693-f82bd413844a",
   "metadata": {},
   "outputs": [],
   "source": [
    "import random\n",
    "def roll_dices(available_dices): #takes the number of available dices, returns a list of integers between 1 and 6 posing as dice walls \n",
    "    return [random.randint(1, 6) for _ in range(available_dices)] \n",
    "\n",
    "def translate_dice(rolled_list): #translate regular dice into kitty dice. can be incorporated into roll dice but left here for readability purposes\n",
    "    #takes in a list of integers, returns translated into dictionary.\n",
    "    kitty_dices = []\n",
    "    for i in rolled_list:\n",
    "        kitty_dices.append(dice_dictionary[i])\n",
    "    \n",
    "    return kitty_dices\n",
    "\n",
    "def check_possibilities(current_field, kitty_dices):\n",
    "    possibilities = []\n",
    "    for dice_i in kitty_dices:\n",
    "        if dice_i in game_area_dictionary[current_field]:\n",
    "            possibilities.append(dice_i)\n",
    "            \n",
    "    return possibilities\n",
    "\n",
    "def make_decision(current_field, possibilities):\n",
    "    if not possibilities:\n",
    "        return False #break the game if there are no legal moves, thus loose rocket \n",
    "    elif \"booster\" in possibilities:\n",
    "        if current_field in double_booster_list:\n",
    "            return (possibilities.count(\"booster\") * 2, \"booster\" )#workaround, just skip checking the number of dices when using boosters\n",
    "        elif current_field == 19: #only one triple booster, might as well skip the list\n",
    "            return (possibilities.count(\"booster\") * 3, \"booster\" )\n",
    "        return (possibilities.count(\"booster\"), \"booster\" )#always go for the booster if possible. really should just disguise booster as a number to avoid mixing types\n",
    "    else:\n",
    "        for i in range(4,0,-1):#maximize output from our dice\n",
    "            if i in possibilities:\n",
    "                return (possibilities.count(i), i)\n",
    "\n",
    "\n",
    "\n",
    "\n",
    "\n",
    "\n",
    "\n",
    "\n",
    "\n"
   ]
  },
  {
   "cell_type": "code",
   "execution_count": 12,
   "id": "bea4565c-3494-4739-a248-20076fed71c6",
   "metadata": {},
   "outputs": [],
   "source": [
    "#starting conditions\n",
    "current_field = 0\n",
    "available_dices = 6"
   ]
  },
  {
   "cell_type": "code",
   "execution_count": 88,
   "id": "a12c09bd-10c1-4097-a19a-52e43ff5ba85",
   "metadata": {},
   "outputs": [],
   "source": [
    "def main_loop(current_field,available_dices):\n",
    "\n",
    "    while current_field < 25:\n",
    "        \n",
    "        rolled_dices = roll_dices(available_dices)\n",
    "        translated_dices = translate_dice(rolled_dices)\n",
    "        possibilities = check_possibilities(current_field, translated_dices)\n",
    "        decision = make_decision(current_field, possibilities)\n",
    "        if decision is False:\n",
    "            # print('crash')\n",
    "            break #rocket crashes\n",
    "        else:\n",
    "            used_dices, dice_type = decision #could do it with \"try\"  \n",
    "        \n",
    "            if dice_type == \"booster\": #movement, dont loose dices with boosters\n",
    "                current_field = min(25,current_field + used_dices )\n",
    "            else:\n",
    "                current_field = min(25,current_field + used_dices * dice_type)\n",
    "                available_dices = max(1, available_dices - used_dices)\n",
    "\n",
    "    # print(rolled_dices, translated_dices, possibilities, decision, current_field)\n",
    "    return current_field"
   ]
  },
  {
   "cell_type": "code",
   "execution_count": 50,
   "id": "b1b7d56e-0edf-4137-a7b2-cc51e7bf809b",
   "metadata": {},
   "outputs": [
    {
     "name": "stdout",
     "output_type": "stream",
     "text": [
      "(2, 'booster')\n",
      "(2, 'booster')\n",
      "(1, 'booster')\n",
      "(4, 1)\n",
      "(1, 'booster')\n",
      "(3, 2)\n"
     ]
    }
   ],
   "source": [
    "for i in range(1,7):\n",
    "\n",
    "    print(make_decision(6,check_possibilities(i,translate_dice(roll_dices(6)))))"
   ]
  },
  {
   "cell_type": "code",
   "execution_count": 45,
   "id": "d0e901e1-412d-4280-88fd-561abe5fbb14",
   "metadata": {},
   "outputs": [],
   "source": [
    "import numpy as np"
   ]
  },
  {
   "cell_type": "code",
   "execution_count": 72,
   "id": "40f0ca9b-ba01-402e-bd09-214923a0f759",
   "metadata": {},
   "outputs": [],
   "source": [
    "\n",
    "def combo_game_loop(starting_field): \n",
    "    results_list = []\n",
    "    for i in range(1000000):\n",
    "        current_field = starting_field\n",
    "        available_dices = 6\n",
    "        current_field = main_loop(current_field, available_dices)\n",
    "        results_list.append(current_field)\n",
    "    return np.array(results_list)\n",
    "        # print(current_field)"
   ]
  },
  {
   "cell_type": "code",
   "execution_count": 62,
   "id": "dcba02fb-a5a1-478b-b74a-155d0c78da2a",
   "metadata": {},
   "outputs": [],
   "source": [
    "import timeit"
   ]
  },
  {
   "cell_type": "code",
   "execution_count": 98,
   "id": "51a53cde-b7cf-45de-9b61-85ec8004a5d7",
   "metadata": {},
   "outputs": [
    {
     "name": "stdout",
     "output_type": "stream",
     "text": [
      "--- 7.596064567565918 seconds ---\n"
     ]
    }
   ],
   "source": [
    "import time\n",
    "start_time = time.time()\n",
    "result = combo_game_loop(0) #starting from zero\n",
    "print(\"--- %s seconds ---\" % (time.time() - start_time))\n"
   ]
  },
  {
   "cell_type": "code",
   "execution_count": 42,
   "id": "49ee119c-dd2b-444c-a383-feef2d092f93",
   "metadata": {
    "scrolled": true
   },
   "outputs": [],
   "source": [
    "import matplotlib.pyplot as plt"
   ]
  },
  {
   "cell_type": "code",
   "execution_count": 64,
   "id": "6792b87c-f981-4134-943a-1a87b5adf159",
   "metadata": {},
   "outputs": [
    {
     "data": {
      "text/plain": [
       "(array([  1383.,   6468.,   8374.,    562.,  59233.,   2676.,   6406.,\n",
       "         15747.,  91580.,  38817.,  38472., 111841.,  88410.,  77402.,\n",
       "         94217.,  33384.,  16711.,  19163.,  40504.,  46574.,  34091.,\n",
       "         14270.,  52273.,  44936.]),\n",
       " array([ 0.,  1.,  2.,  3.,  4.,  5.,  6.,  7.,  8.,  9., 10., 11., 12.,\n",
       "        13., 14., 15., 16., 17., 18., 19., 20., 21., 22., 23., 24.]),\n",
       " <BarContainer object of 24 artists>)"
      ]
     },
     "execution_count": 64,
     "metadata": {},
     "output_type": "execute_result"
    },
    {
     "data": {
      "image/png": "[encoded data removed]",
      "text/plain": [
       "<Figure size 640x480 with 1 Axes>"
      ]
     },
     "metadata": {},
     "output_type": "display_data"
    }
   ],
   "source": [
    "plt.hist(result, bins=range(min(result), max(result)))"
   ]
  },
  {
   "cell_type": "code",
   "execution_count": 65,
   "id": "9c7af8c9-8f61-41cd-80da-6d547aaa179d",
   "metadata": {},
   "outputs": [],
   "source": [
    "from collections import Counter"
   ]
  },
  {
   "cell_type": "code",
   "execution_count": 107,
   "id": "eb8766b5-4ecd-44de-99af-3a8720977320",
   "metadata": {},
   "outputs": [
    {
     "name": "stdout",
     "output_type": "stream",
     "text": [
      "Value | frequency  | % chance\n",
      "----------------------------------\n",
      "  0    |   1365    |    0.1365   \n",
      "  1    |   6407    |    0.6407   \n",
      "  2    |   8459    |    0.8459   \n",
      "  3    |    575    |    0.0575   \n",
      "  4    |   58928   |    5.8928   \n",
      "  5    |   2554    |    0.2554   \n",
      "  6    |   6410    |    0.641    \n",
      "  7    |   15557   |    1.5557   \n",
      "  8    |   91707   |    9.1707   \n",
      "  9    |   38654   |    3.8654   \n",
      "  10   |   38325   |    3.8325   \n",
      "  11   |  110899   |   11.0899   \n",
      "  12   |   88124   |    8.8124   \n",
      "  13   |   77386   |    7.7386   \n",
      "  14   |   94330   |    9.433    \n",
      "  15   |   33530   |    3.353    \n",
      "  16   |   16835   |    1.6835   \n",
      "  17   |   19116   |    1.9116   \n",
      "  18   |   40791   |    4.0791   \n",
      "  19   |   46659   |    4.6659   \n",
      "  20   |   34284   |    3.4284   \n",
      "  21   |   14179   |    1.4179   \n",
      "  22   |   52858   |    5.2858   \n",
      "  23   |   36385   |    3.6385   \n",
      "  24   |   8652    |    0.8652   \n",
      "  25   |   57031   |    5.7031   \n"
     ]
    }
   ],
   "source": [
    "counter = Counter(result)\n",
    "sorted_counter = sorted(counter.items())\n",
    "print(\"Value | frequency  | % chance\")\n",
    "print(\"----------------------------------\")\n",
    "for value, frequency in sorted_counter:\n",
    "    print(f\"{value:^6} | {frequency:^9} | {frequency/10000:^12}\")"
   ]
  },
  {
   "cell_type": "code",
   "execution_count": 100,
   "id": "06594bf6-2e9f-458b-9842-271633dab430",
   "metadata": {},
   "outputs": [
    {
     "name": "stdout",
     "output_type": "stream",
     "text": [
      "--- 6.733752012252808 seconds ---\n"
     ]
    }
   ],
   "source": [
    "start_time = time.time()\n",
    "result_sattelite = combo_game_loop(3) #starting from the sattelite\n",
    "print(\"--- %s seconds ---\" % (time.time() - start_time))\n"
   ]
  },
  {
   "cell_type": "code",
   "execution_count": 105,
   "id": "acdd1d2b-5bbd-4aaa-aa01-2301364f9042",
   "metadata": {},
   "outputs": [
    {
     "data": {
      "text/plain": [
       "(array([ 1324., 35342.,   531.,  1028.,  5959., 30176., 20834., 12872.,\n",
       "        75036., 82477., 95763., 95362., 51102., 22785., 24290., 54503.,\n",
       "        69232., 54219., 24850., 79116., 72232.]),\n",
       " array([ 3.,  4.,  5.,  6.,  7.,  8.,  9., 10., 11., 12., 13., 14., 15.,\n",
       "        16., 17., 18., 19., 20., 21., 22., 23., 24.]),\n",
       " <BarContainer object of 21 artists>)"
      ]
     },
     "execution_count": 105,
     "metadata": {},
     "output_type": "execute_result"
    },
    {
     "data": {
      "image/png": "[encoded data removed]",
      "text/plain": [
       "<Figure size 640x480 with 1 Axes>"
      ]
     },
     "metadata": {},
     "output_type": "display_data"
    }
   ],
   "source": [
    "plt.hist(result_sattelite, bins=range(min(result_sattelite), max(result_sattelite)), alpha=1, label='sattelite start')"
   ]
  },
  {
   "cell_type": "code",
   "execution_count": 118,
   "id": "f31aebff-fc57-45c1-a460-b594c7f0307a",
   "metadata": {},
   "outputs": [
    {
     "data": {
      "image/png": "[encoded data removed]",
      "text/plain": [
       "<Figure size 640x480 with 1 Axes>"
      ]
     },
     "metadata": {},
     "output_type": "display_data"
    }
   ],
   "source": [
    "plt.hist(result, bins=range(min(result), max(result)), alpha=0.5, label='Normal start', color='b')\n",
    "plt.hist(result_sattelite, bins=range(min(result_sattelite), max(result_sattelite)), alpha=0.5, label='sattelite start', color='red')\n",
    "\n",
    "plt.legend()\n",
    "plt.show()\n",
    "#using sattelite increases the expected distance quite significantly"
   ]
  },
  {
   "cell_type": "code",
   "execution_count": 106,
   "id": "5b2b4f94-706e-4c29-bbc6-c2341b1f8dc8",
   "metadata": {},
   "outputs": [
    {
     "name": "stdout",
     "output_type": "stream",
     "text": [
      "Value | frequency  | % chance\n",
      "----------------------------------\n",
      "  3    |   1324    |    0.1324   \n",
      "  4    |   35342   |    3.5342   \n",
      "  5    |    531    |    0.0531   \n",
      "  6    |   1028    |    0.1028   \n",
      "  7    |   5959    |    0.5959   \n",
      "  8    |   30176   |    3.0176   \n",
      "  9    |   20834   |    2.0834   \n",
      "  10   |   12872   |    1.2872   \n",
      "  11   |   75036   |    7.5036   \n",
      "  12   |   82477   |    8.2477   \n",
      "  13   |   95763   |    9.5763   \n",
      "  14   |   95362   |    9.5362   \n",
      "  15   |   51102   |    5.1102   \n",
      "  16   |   22785   |    2.2785   \n",
      "  17   |   24290   |    2.429    \n",
      "  18   |   54503   |    5.4503   \n",
      "  19   |   69232   |    6.9232   \n",
      "  20   |   54219   |    5.4219   \n",
      "  21   |   24850   |    2.485    \n",
      "  22   |   79116   |    7.9116   \n",
      "  23   |   57807   |    5.7807   \n",
      "  24   |   14425   |    1.4425   \n",
      "  25   |   90967   |    9.0967   \n"
     ]
    }
   ],
   "source": [
    "counter2 = Counter(result_sattelite)\n",
    "sorted_counter2 = sorted(counter2.items())\n",
    "print(\"Value | frequency  | % chance\")\n",
    "print(\"----------------------------------\")\n",
    "for value, frequency in sorted_counter2:\n",
    "    print(f\"{value:^6} | {frequency:^9} | {frequency/10000:^12}\")"
   ]
  },
  {
   "cell_type": "code",
   "execution_count": null,
   "id": "7674e460-56d3-4976-add9-71e8d8e401cb",
   "metadata": {},
   "outputs": [],
   "source": []
  },
  {
   "cell_type": "code",
   "execution_count": null,
   "id": "831503ec-5803-4d12-9478-3879db08897b",
   "metadata": {},
   "outputs": [],
   "source": []
  }
 ],
 "metadata": {
  "kernelspec": {
   "display_name": "Python 3 (ipykernel)",
   "language": "python",
   "name": "python3"
  },
  "language_info": {
   "codemirror_mode": {
    "name": "ipython",
    "version": 3
   },
   "file_extension": ".py",
   "mimetype": "text/x-python",
   "name": "python",
   "nbconvert_exporter": "python",
   "pygments_lexer": "ipython3",
   "version": "3.12.7"
  }
 },
 "nbformat": 4,
 "nbformat_minor": 5
}
