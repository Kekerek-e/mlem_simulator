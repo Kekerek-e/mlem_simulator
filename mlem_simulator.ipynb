{
 "cells": [
  {
   "cell_type": "raw",
   "id": "0b72d58f-6169-4627-8c3b-fc6dad8cf90e",
   "metadata": {},
   "source": [
    "mlem space agency\n",
    "flying cats to space and hoping they will not explode\n",
    "relevant game rules\n",
    "11 rockets in total\n",
    "succesfully dropping cats off doesnt use a rocket, assuming we just go as far as possible (only arriving at the last field will not use up a rocket)\n",
    "always use up all of the dices of the same roll-type, last one will not be used (as in you will never be left with 0 dices after the roll)\n",
    "using booster on the dice dont result in it being used\n",
    "loop:\n",
    "    roll the dice\n",
    "    choose which set of dices to use (depending on field specific possibilities)\n",
    "    move the rocket & discard used dices (if not booster)\n"
   ]
  },
  {
   "cell_type": "markdown",
   "id": "a680f12d-3271-42e3-b061-11816c4fffe6",
   "metadata": {},
   "source": [
    "\n",
    "game area looks more or less like this \\\n",
    "https://boardgamegeek.com/image/7786608/mlem-space-agency \\\n",
    "for now, distance maximizing will happen. potential for ML for points maximizing is there, but in future release\n"
   ]
  },
  {
   "cell_type": "code",
   "execution_count": 3,
   "id": "de0b566b-403b-4cf1-90db-7a77c04f3635",
   "metadata": {},
   "outputs": [],
   "source": [
    "dice_dictionary = {\n",
    "    1 : 1,\n",
    "    2 : 2, \n",
    "    3 : 3,\n",
    "    4 : 4,\n",
    "    5 : 2, \n",
    "    6 : \"booster\"\n",
    "} #kitty dice has 2 on two different faces\n",
    "\n",
    "game_area_dictionary = {\n",
    "    0 : [1, 2, \"booster\"],\n",
    "    1 : [1, 3, \"booster\"],\n",
    "    2 : [1, 3, \"booster\"],\n",
    "    3 : [2, 3, \"booster\"],\n",
    "    4 : [1, 4], \n",
    "    5 : [1, 2, \"booster\"], \n",
    "    6 : [1, 2 ,4],\n",
    "    7 : [1, 2],\n",
    "    8 : [1, 3],\n",
    "    9 : [2, 4],\n",
    "    10: [1, 3, 4],\n",
    "    11: [1, \"booster\"],\n",
    "    12: [3, \"booster\"],\n",
    "    13: [1, 3],\n",
    "    14: [3, 4],\n",
    "    15: [1, \"booster\"],\n",
    "    16: [1, 2, 4],\n",
    "    17: [2, 3, 4],\n",
    "    18: [1, 4, \"booster\"],\n",
    "    19: [1, \"booster\"],\n",
    "    20: [2, 3],\n",
    "    21: [2, \"booster\"],\n",
    "    22: [4, \"booster\"],\n",
    "    23: [3, \"booster\"],\n",
    "    24: [2, \"booster\"],\n",
    "    25: [1, \"booster\"]\n",
    "}\n",
    "\n",
    "double_booster_list = [2, 5, 12, 15, 21]\n",
    "# triple_booster_list = [19] #only one triple booster like that"
   ]
  },
  {
   "cell_type": "code",
   "execution_count": 4,
   "id": "4661c1c1-41d8-44ff-96ab-7ea92efc60e6",
   "metadata": {},
   "outputs": [
    {
     "data": {
      "text/plain": [
       "[1, 2, 'booster']"
      ]
     },
     "execution_count": 4,
     "metadata": {},
     "output_type": "execute_result"
    }
   ],
   "source": [
    "current_field = 0\n",
    "game_area_dictionary[current_field]"
   ]
  },
  {
   "cell_type": "code",
   "execution_count": 5,
   "id": "99942a7a-3488-4fd2-b693-f82bd413844a",
   "metadata": {},
   "outputs": [],
   "source": [
    "import random\n",
    "def roll_dices(available_dices): #takes the number of available dices, returns a list of integers between 1 and 6 posing as dice walls \n",
    "    return [random.randint(1, 6) for _ in range(available_dices)] \n",
    "\n",
    "def translate_dice(rolled_list): #translate regular dice into kitty dice. can be incorporated into roll dice but left here for readability purposes\n",
    "    #takes in a list of integers, returns translated into dictionary.\n",
    "    kitty_dices = []\n",
    "    for i in rolled_list:\n",
    "        kitty_dices.append(dice_dictionary[i])\n",
    "    \n",
    "    return kitty_dices\n",
    "\n",
    "def check_possibilities(current_field, kitty_dices):\n",
    "    possibilities = []\n",
    "    for dice_i in kitty_dices:\n",
    "        if dice_i in game_area_dictionary[current_field]:\n",
    "            possibilities.append(dice_i)\n",
    "            \n",
    "    return possibilities\n",
    "\n",
    "def make_decision(current_field, possibilities):\n",
    "    if not possibilities:\n",
    "        return False #break the game if there are no legal moves, thus loose rocket \n",
    "    elif \"booster\" in possibilities:\n",
    "        if current_field in double_booster_list:\n",
    "            return (possibilities.count(\"booster\") * 2, \"booster\" )#workaround, just skip checking the number of dices when using boosters\n",
    "        elif current_field == 19: #only one triple booster, might as well skip the list\n",
    "            return (possibilities.count(\"booster\") * 3, \"booster\" )\n",
    "        return (possibilities.count(\"booster\"), \"booster\" )#always go for the booster if possible. really should just disguise booster as a number to avoid mixing types\n",
    "    else:\n",
    "        for i in range(4,0,-1):#maximize output from our dice\n",
    "            if i in possibilities:\n",
    "                return (possibilities.count(i), i)\n",
    "\n",
    "\n",
    "\n",
    "\n",
    "\n",
    "\n",
    "\n",
    "\n",
    "\n"
   ]
  },
  {
   "cell_type": "code",
   "execution_count": 6,
   "id": "bea4565c-3494-4739-a248-20076fed71c6",
   "metadata": {},
   "outputs": [],
   "source": [
    "#starting conditions\n",
    "current_field = 0\n",
    "available_dices = 6"
   ]
  },
  {
   "cell_type": "code",
   "execution_count": 15,
   "id": "a12c09bd-10c1-4097-a19a-52e43ff5ba85",
   "metadata": {},
   "outputs": [],
   "source": [
    "def main_loop(current_field,available_dices):\n",
    "\n",
    "    while current_field < 26:\n",
    "        \n",
    "        rolled_dices = roll_dices(available_dices)\n",
    "        translated_dices = translate_dice(rolled_dices)\n",
    "        possibilities = check_possibilities(current_field, translated_dices)\n",
    "        decision = make_decision(current_field, possibilities)\n",
    "        if decision is False:\n",
    "            # print('crash')\n",
    "            break #rocket crashes\n",
    "        else:\n",
    "            used_dices, dice_type = decision #could do it with \"try\"  \n",
    "        \n",
    "            if dice_type == \"booster\": #movement, dont loose dices with boosters\n",
    "                current_field = min(26,current_field + used_dices )\n",
    "            else:\n",
    "                current_field = min(26,current_field + used_dices * dice_type)\n",
    "                available_dices = max(1, available_dices - used_dices)\n",
    "\n",
    "    # print(rolled_dices, translated_dices, possibilities, decision, current_field)\n",
    "    return current_field"
   ]
  },
  {
   "cell_type": "code",
   "execution_count": 16,
   "id": "b1b7d56e-0edf-4137-a7b2-cc51e7bf809b",
   "metadata": {},
   "outputs": [
    {
     "name": "stdout",
     "output_type": "stream",
     "text": [
      "(1, 'booster')\n",
      "(1, 'booster')\n",
      "(3, 2)\n",
      "(1, 4)\n",
      "(2, 'booster')\n",
      "(2, 4)\n"
     ]
    }
   ],
   "source": [
    "for i in range(1,7):\n",
    "\n",
    "    print(make_decision(6,check_possibilities(i,translate_dice(roll_dices(6)))))"
   ]
  },
  {
   "cell_type": "code",
   "execution_count": 17,
   "id": "d0e901e1-412d-4280-88fd-561abe5fbb14",
   "metadata": {},
   "outputs": [],
   "source": [
    "import numpy as np"
   ]
  },
  {
   "cell_type": "code",
   "execution_count": 18,
   "id": "40f0ca9b-ba01-402e-bd09-214923a0f759",
   "metadata": {},
   "outputs": [],
   "source": [
    "\n",
    "def combo_game_loop(starting_field): \n",
    "    results_list = []\n",
    "    for i in range(1000000):\n",
    "        current_field = starting_field\n",
    "        available_dices = 6\n",
    "        current_field = main_loop(current_field, available_dices)\n",
    "        results_list.append(current_field)\n",
    "    return np.array(results_list)\n",
    "        # print(current_field)"
   ]
  },
  {
   "cell_type": "code",
   "execution_count": 19,
   "id": "dcba02fb-a5a1-478b-b74a-155d0c78da2a",
   "metadata": {},
   "outputs": [],
   "source": [
    "import timeit"
   ]
  },
  {
   "cell_type": "code",
   "execution_count": 20,
   "id": "51a53cde-b7cf-45de-9b61-85ec8004a5d7",
   "metadata": {},
   "outputs": [
    {
     "name": "stdout",
     "output_type": "stream",
     "text": [
      "--- 7.703789710998535 seconds ---\n"
     ]
    }
   ],
   "source": [
    "import time\n",
    "start_time = time.time()\n",
    "result = combo_game_loop(0) #starting from zero\n",
    "print(\"--- %s seconds ---\" % (time.time() - start_time))\n"
   ]
  },
  {
   "cell_type": "code",
   "execution_count": 21,
   "id": "49ee119c-dd2b-444c-a383-feef2d092f93",
   "metadata": {
    "scrolled": true
   },
   "outputs": [],
   "source": [
    "import matplotlib.pyplot as plt"
   ]
  },
  {
   "cell_type": "code",
   "execution_count": 36,
   "id": "6792b87c-f981-4134-943a-1a87b5adf159",
   "metadata": {},
   "outputs": [
    {
     "data": {
      "text/plain": [
       "(array([  1434.,   6494.,   8347.,    600.,  59408.,   2484.,   6200.,\n",
       "         15379.,  91910.,  38595.,  38227., 111107.,  88516.,  77326.,\n",
       "         94070.,  33203.,  16806.,  19120.,  41227.,  46519.,  34251.,\n",
       "         14303.,  52372.,  36241.,   8810.,   5927.,  51124.]),\n",
       " array([ 0.,  1.,  2.,  3.,  4.,  5.,  6.,  7.,  8.,  9., 10., 11., 12.,\n",
       "        13., 14., 15., 16., 17., 18., 19., 20., 21., 22., 23., 24., 25.,\n",
       "        26., 27.]),\n",
       " <BarContainer object of 27 artists>)"
      ]
     },
     "execution_count": 36,
     "metadata": {},
     "output_type": "execute_result"
    },
    {
     "data": {
      "image/png": "[encoded data removed]",
      "text/plain": [
       "<Figure size 640x480 with 1 Axes>"
      ]
     },
     "metadata": {},
     "output_type": "display_data"
    }
   ],
   "source": [
    "plt.hist(result, bins=range(min(result), max(result)+2))"
   ]
  },
  {
   "cell_type": "code",
   "execution_count": 37,
   "id": "9c7af8c9-8f61-41cd-80da-6d547aaa179d",
   "metadata": {},
   "outputs": [],
   "source": [
    "from collections import Counter"
   ]
  },
  {
   "cell_type": "code",
   "execution_count": 38,
   "id": "eb8766b5-4ecd-44de-99af-3a8720977320",
   "metadata": {},
   "outputs": [
    {
     "name": "stdout",
     "output_type": "stream",
     "text": [
      "Value | frequency  | % chance\n",
      "----------------------------------\n",
      "  0    |   1434    |    0.1434   \n",
      "  1    |   6494    |    0.6494   \n",
      "  2    |   8347    |    0.8347   \n",
      "  3    |    600    |     0.06    \n",
      "  4    |   59408   |    5.9408   \n",
      "  5    |   2484    |    0.2484   \n",
      "  6    |   6200    |     0.62    \n",
      "  7    |   15379   |    1.5379   \n",
      "  8    |   91910   |    9.191    \n",
      "  9    |   38595   |    3.8595   \n",
      "  10   |   38227   |    3.8227   \n",
      "  11   |  111107   |   11.1107   \n",
      "  12   |   88516   |    8.8516   \n",
      "  13   |   77326   |    7.7326   \n",
      "  14   |   94070   |    9.407    \n",
      "  15   |   33203   |    3.3203   \n",
      "  16   |   16806   |    1.6806   \n",
      "  17   |   19120   |    1.912    \n",
      "  18   |   41227   |    4.1227   \n",
      "  19   |   46519   |    4.6519   \n",
      "  20   |   34251   |    3.4251   \n",
      "  21   |   14303   |    1.4303   \n",
      "  22   |   52372   |    5.2372   \n",
      "  23   |   36241   |    3.6241   \n",
      "  24   |   8810    |    0.881    \n",
      "  25   |   5927    |    0.5927   \n",
      "  26   |   51124   |    5.1124   \n"
     ]
    }
   ],
   "source": [
    "counter = Counter(result)\n",
    "sorted_counter = sorted(counter.items())\n",
    "print(\"Value | frequency  | % chance\")\n",
    "print(\"----------------------------------\")\n",
    "for value, frequency in sorted_counter:\n",
    "    print(f\"{value:^6} | {frequency:^9} | {frequency/10000:^12}\")"
   ]
  },
  {
   "cell_type": "code",
   "execution_count": 25,
   "id": "06594bf6-2e9f-458b-9842-271633dab430",
   "metadata": {},
   "outputs": [
    {
     "name": "stdout",
     "output_type": "stream",
     "text": [
      "--- 6.809640169143677 seconds ---\n"
     ]
    }
   ],
   "source": [
    "start_time = time.time()\n",
    "result_sattelite = combo_game_loop(3) #starting from the sattelite\n",
    "print(\"--- %s seconds ---\" % (time.time() - start_time))\n"
   ]
  },
  {
   "cell_type": "code",
   "execution_count": 34,
   "id": "acdd1d2b-5bbd-4aaa-aa01-2301364f9042",
   "metadata": {},
   "outputs": [
    {
     "data": {
      "text/plain": [
       "(array([ 1378., 35251.,   515.,  1019.,  5974., 30144., 20850., 12706.,\n",
       "        74880., 82283., 95389., 94858., 51345., 22796., 24771., 54716.,\n",
       "        70213., 54037., 24569., 79256., 57917., 14296., 10691., 80146.]),\n",
       " array([ 3.,  4.,  5.,  6.,  7.,  8.,  9., 10., 11., 12., 13., 14., 15.,\n",
       "        16., 17., 18., 19., 20., 21., 22., 23., 24., 25., 26., 27.]),\n",
       " <BarContainer object of 24 artists>)"
      ]
     },
     "execution_count": 34,
     "metadata": {},
     "output_type": "execute_result"
    },
    {
     "data": {
      "image/png": "[encoded data removed]",
      "text/plain": [
       "<Figure size 640x480 with 1 Axes>"
      ]
     },
     "metadata": {},
     "output_type": "display_data"
    }
   ],
   "source": [
    "plt.hist(result_sattelite, bins=range(min(result_sattelite), max(result_sattelite)+2), alpha=1, label='sattelite start')"
   ]
  },
  {
   "cell_type": "code",
   "execution_count": 31,
   "id": "f31aebff-fc57-45c1-a460-b594c7f0307a",
   "metadata": {},
   "outputs": [
    {
     "data": {
      "image/png": "[encoded data removed]",
      "text/plain": [
       "<Figure size 640x480 with 1 Axes>"
      ]
     },
     "metadata": {},
     "output_type": "display_data"
    }
   ],
   "source": [
    "plt.hist(result, bins=range(min(result), max(result)+2), alpha=0.5, label='Normal start', color='b')\n",
    "plt.hist(result_sattelite, bins=range(min(result_sattelite), max(result_sattelite)+2), alpha=0.5, label='sattelite start', color='red')\n",
    "\n",
    "plt.legend()\n",
    "plt.show()\n",
    "#using sattelite increases the expected distance quite significantly"
   ]
  },
  {
   "cell_type": "code",
   "execution_count": 39,
   "id": "5b2b4f94-706e-4c29-bbc6-c2341b1f8dc8",
   "metadata": {},
   "outputs": [
    {
     "name": "stdout",
     "output_type": "stream",
     "text": [
      "Value | frequency  | % chance\n",
      "----------------------------------\n",
      "  3    |   1378    |    0.1378   \n",
      "  4    |   35251   |    3.5251   \n",
      "  5    |    515    |    0.0515   \n",
      "  6    |   1019    |    0.1019   \n",
      "  7    |   5974    |    0.5974   \n",
      "  8    |   30144   |    3.0144   \n",
      "  9    |   20850   |    2.085    \n",
      "  10   |   12706   |    1.2706   \n",
      "  11   |   74880   |    7.488    \n",
      "  12   |   82283   |    8.2283   \n",
      "  13   |   95389   |    9.5389   \n",
      "  14   |   94858   |    9.4858   \n",
      "  15   |   51345   |    5.1345   \n",
      "  16   |   22796   |    2.2796   \n",
      "  17   |   24771   |    2.4771   \n",
      "  18   |   54716   |    5.4716   \n",
      "  19   |   70213   |    7.0213   \n",
      "  20   |   54037   |    5.4037   \n",
      "  21   |   24569   |    2.4569   \n",
      "  22   |   79256   |    7.9256   \n",
      "  23   |   57917   |    5.7917   \n",
      "  24   |   14296   |    1.4296   \n",
      "  25   |   10691   |    1.0691   \n",
      "  26   |   80146   |    8.0146   \n"
     ]
    }
   ],
   "source": [
    "counter2 = Counter(result_sattelite)\n",
    "sorted_counter2 = sorted(counter2.items())\n",
    "print(\"Value | frequency  | % chance\")\n",
    "print(\"----------------------------------\")\n",
    "for value, frequency in sorted_counter2:\n",
    "    print(f\"{value:^6} | {frequency:^9} | {frequency/10000:^12}\")"
   ]
  },
  {
   "cell_type": "code",
   "execution_count": null,
   "id": "7674e460-56d3-4976-add9-71e8d8e401cb",
   "metadata": {},
   "outputs": [],
   "source": []
  },
  {
   "cell_type": "code",
   "execution_count": null,
   "id": "831503ec-5803-4d12-9478-3879db08897b",
   "metadata": {},
   "outputs": [],
   "source": []
  }
 ],
 "metadata": {
  "kernelspec": {
   "display_name": "Python 3 (ipykernel)",
   "language": "python",
   "name": "python3"
  },
  "language_info": {
   "codemirror_mode": {
    "name": "ipython",
    "version": 3
   },
   "file_extension": ".py",
   "mimetype": "text/x-python",
   "name": "python",
   "nbconvert_exporter": "python",
   "pygments_lexer": "ipython3",
   "version": "3.12.7"
  }
 },
 "nbformat": 4,
 "nbformat_minor": 5
}
